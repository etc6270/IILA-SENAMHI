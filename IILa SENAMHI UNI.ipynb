{
 "cells": [
  {
   "cell_type": "markdown",
   "metadata": {},
   "source": [
    "# IILLA SENAMHI\n",
    "\n",
    "Las precipitaciones máximas e intensidades máximas de tormentas han sido estudiadas regionalmente por el Instituto Italiano Latino Americano IILA (Convenio Internacional IILA-SENAMHI-UNI) \"Estudio de la Hidrología del Perú\" 1983, cuyas fórmulas son:\n",
    "    \n",
    "Para (3$\\leq$t$\\leq$24) Horas:\n",
    "\n",
    "$P_{t,T}=a(1+K\\log_{10}T)t^{n}$"
   ]
  },
  {
   "cell_type": "code",
   "execution_count": 41,
   "metadata": {
    "collapsed": false
   },
   "outputs": [
    {
     "name": "stdout",
     "output_type": "stream",
     "text": [
      "[1.38491,1.51622,1.68094,1.89474,2.1854,2.60781,3.28945,4.6208,8.87706,46.1125,5.96517,3.82406,2.90254,2.37483,2.02796,1.78036,1.59362,1.44709]"
     ]
    }
   ],
   "source": [
    "# Variables Condicionales\n",
    "N=18     # Numero de valores\n",
    "dt=10    # Duracion\n",
    "# Parametros Regionales\n",
    "T=100\n",
    "a=12.2\n",
    "k=0.553\n",
    "n=0.254\n",
    "\n",
    "Pi=zeros(N)\n",
    "t=zeros(N)\n",
    "Pb=zeros(N)\n",
    "Pinc=zeros(N)\n",
    "Pt=zeros(N)\n",
    "\n",
    "for i in 1:N\n",
    "    t[i]=i*dt\n",
    "    Pi[i]=a*(1+k*log10(T))*t[i]^n\n",
    "end  \n",
    "\n",
    "for i in 2:N\n",
    "    Pb[i-1]=Pi[i]\n",
    "end\n",
    "\n",
    "Pinc[1]=Pi[1]\n",
    "for i in 1:N-1\n",
    "    Pinc[i+1]=Pb[i]-Pi[i]\n",
    "end\n",
    "\n",
    "n=N\n",
    "m=1\n",
    "for i in 1:N\n",
    "    if i <= N/2\n",
    "        Pt[i]=Pinc[n]\n",
    "        n=n-2\n",
    "    else\n",
    "        Pt[i]=Pinc[m]\n",
    "        m=m+2\n",
    "    end\n",
    "end\n",
    "\n",
    "\n",
    "print(Pt)"
   ]
  }
 ],
 "metadata": {
  "anaconda-cloud": {},
  "kernelspec": {
   "display_name": "Julia 0.5.0",
   "language": "julia",
   "name": "julia-0.5"
  },
  "language_info": {
   "file_extension": ".jl",
   "mimetype": "application/julia",
   "name": "julia",
   "version": "0.5.0"
  }
 },
 "nbformat": 4,
 "nbformat_minor": 1
}
